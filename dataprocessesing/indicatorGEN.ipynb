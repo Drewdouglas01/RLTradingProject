{
 "cells": [
  {
   "cell_type": "code",
   "execution_count": 2,
   "metadata": {},
   "outputs": [],
   "source": [
    "from stockstats import StockDataFrame as Sdf\n",
    "import pandas as pd\n",
    "import ccxt\n",
    "from datetime import datetime, timezone\n",
    "import math\n",
    "import time\n",
    "import os\n",
    "import pickle\n",
    "import numpy as np"
   ]
  },
  {
   "cell_type": "code",
   "execution_count": 3,
   "metadata": {},
   "outputs": [],
   "source": [
    "with open(\"index_5_2000.pkl\", 'rb') as file:\n",
    "    data = pickle.load(file)"
   ]
  },
  {
   "cell_type": "code",
   "execution_count": 4,
   "metadata": {},
   "outputs": [],
   "source": [
    "df = data.copy()"
   ]
  },
  {
   "cell_type": "code",
   "execution_count": 5,
   "metadata": {},
   "outputs": [],
   "source": [
    "TICKER_LIST = [\"^DJI\", \"^IXIC\", \"^NYA\", \"^RUT\", \"^GSPC\"]"
   ]
  },
  {
   "cell_type": "code",
   "execution_count": 6,
   "metadata": {},
   "outputs": [],
   "source": [
    "df['date'] = pd.to_datetime(df['date'])\n",
    "\n",
    "# Set the 'date' column as the index\n",
    "df.set_index('date', inplace=True)\n",
    "\n",
    "# Create a dictionary to hold the data\n",
    "ticker_dict = {tic: group for tic, group in df.groupby('tic')}"
   ]
  },
  {
   "cell_type": "markdown",
   "metadata": {},
   "source": [
    "Helper Functions"
   ]
  },
  {
   "cell_type": "markdown",
   "metadata": {},
   "source": [
    "Helper"
   ]
  },
  {
   "cell_type": "code",
   "execution_count": 6,
   "metadata": {},
   "outputs": [],
   "source": [
    "def calculate_limit(start_date_str, end_date_str):\n",
    "    \"\"\"Calculate the number of 5-minute intervals between two dates.\"\"\"\n",
    "    start_date = datetime.strptime(start_date_str, \"%Y-%m-%d %H:%M:%S\")\n",
    "    end_date = datetime.strptime(end_date_str, \"%Y-%m-%d %H:%M:%S\")\n",
    "    delta = end_date - start_date\n",
    "    total_minutes = delta.total_seconds() / 60\n",
    "    limit = total_minutes // 5\n",
    "    return int(limit)\n",
    "def convert_date_to_timestamp(date_str):\n",
    "    \"\"\"Convert a date string to a timestamp in milliseconds, assuming the date is in UTC.\"\"\"\n",
    "    # Convert the string to a datetime object in UTC\n",
    "    dt = datetime.strptime(date_str, \"%Y-%m-%d %H:%M:%S\").replace(tzinfo=timezone.utc)\n",
    "    # Convert the datetime object to a timestamp in milliseconds\n",
    "    timestamp = int(dt.timestamp() * 1000)\n",
    "    return timestamp\n",
    "def timestamp_to_date(timestamp):\n",
    "    # Convert the timestamp (milliseconds) to seconds\n",
    "    timestamp_seconds = timestamp / 1000\n",
    "    # Convert to datetime in UTC\n",
    "    date = datetime.fromtimestamp(timestamp_seconds, tz=timezone.utc)\n",
    "    return date.strftime('%Y-%m-%d %H:%M:%S')"
   ]
  },
  {
   "cell_type": "code",
   "execution_count": 14,
   "metadata": {},
   "outputs": [
    {
     "ename": "IndexError",
     "evalue": "list index out of range",
     "output_type": "error",
     "traceback": [
      "\u001b[0;31m---------------------------------------------------------------------------\u001b[0m",
      "\u001b[0;31mIndexError\u001b[0m                                Traceback (most recent call last)",
      "Cell \u001b[0;32mIn[14], line 1\u001b[0m\n\u001b[0;32m----> 1\u001b[0m ticker_dict[\u001b[43mTICKER_LIST\u001b[49m\u001b[43m[\u001b[49m\u001b[38;5;241;43m5\u001b[39;49m\u001b[43m]\u001b[49m]\n",
      "\u001b[0;31mIndexError\u001b[0m: list index out of range"
     ]
    }
   ],
   "source": [
    "ticker_dict[TICKER_LIST[5]]"
   ]
  },
  {
   "cell_type": "code",
   "execution_count": 7,
   "metadata": {},
   "outputs": [],
   "source": [
    "INDICATORS = [ #Same indicators as the ensamble\n",
    "    \"macd\",\n",
    "    \"boll_ub\",\n",
    "    \"boll_lb\",\n",
    "    \"rsi_30\",\n",
    "    \"cci_30\",\n",
    "    \"dx_30\",\n",
    "    \"close_30_sma\",\n",
    "    \"close_60_sma\",\n",
    "    'mfi', #ADDED\n",
    "    'atr_14',\n",
    "    'adx',\n",
    "    'ichimoku',\n",
    "    'supertrend_ub',\n",
    "    'supertrend_lb',\n",
    "    'aroon',\n",
    "    'close_7_smma',\n",
    "    \"middle_10_trix\",\n",
    "    \"atr\",\n",
    "    \"kdjk\",\n",
    "    \"kdjd\",\n",
    "    \"kdjj\",\n",
    "    \"cr-ma1\",\n",
    "    \"cr-ma2\",\n",
    "    \"cr-ma3\",\n",
    "    \"chop\",\n",
    "    \"eribull\",\n",
    "    \"eribear\",\n",
    "    \"ker\",\n",
    "    \"kama\",\n",
    "    \"coppock\",\n",
    "    \"close_5_lrma\",\n",
    "    \"close_10_lrma\",\n",
    "    \"close_15_lrma\",\n",
    "    \"close_20_lrma\",\n",
    "    \"close_25_lrma\",\n",
    "    \"close_30_lrma\",\n",
    "    \"cti\",\n",
    "    \"ftr\",\n",
    "    \"kst\",\n",
    "    \"pgo\",\n",
    "    \"qqe\",\n",
    "    \n",
    "\n",
    "\n",
    "\n",
    "\n",
    "\n",
    "\n",
    "\n",
    "\n",
    "\n",
    "\n",
    "\n",
    "]\n",
    "for ticker in TICKER_LIST:\n",
    "    for indicator in INDICATORS:\n",
    "            ind = Sdf.retype(ticker_dict[ticker].copy())\n",
    "            ticker_dict[ticker][indicator] = ind[indicator]"
   ]
  },
  {
   "cell_type": "code",
   "execution_count": 12,
   "metadata": {},
   "outputs": [],
   "source": [
    "for ticker in TICKER_LIST:\n",
    "    ticker_dict[ticker].drop('tic', axis=1, inplace=True)"
   ]
  },
  {
   "cell_type": "code",
   "execution_count": 20,
   "metadata": {},
   "outputs": [],
   "source": [
    "#PAD to 32\n",
    "\n",
    "Col_count = len(ticker_dict[TICKER_LIST[0]].columns)\n",
    "\n",
    "for ticker in TICKER_LIST:\n",
    "    for i in range(Col_count, 82):\n",
    "        ticker_dict[ticker][\"Filler-\" + str(i)] = 0"
   ]
  },
  {
   "cell_type": "code",
   "execution_count": 22,
   "metadata": {},
   "outputs": [
    {
     "data": {
      "text/plain": [
       "82"
      ]
     },
     "execution_count": 22,
     "metadata": {},
     "output_type": "execute_result"
    }
   ],
   "source": [
    "len(ticker_dict[TICKER_LIST[0]].columns)"
   ]
  },
  {
   "cell_type": "code",
   "execution_count": 24,
   "metadata": {},
   "outputs": [],
   "source": [
    "#Data export\n",
    "\n",
    "datasetName = \"Model_data_raw\"\n",
    "datasetDir = \"../Datasets\"\n",
    "\n",
    "os.makedirs(datasetDir, exist_ok=True)\n",
    "datasetPath = os.path.join(datasetDir, datasetName) + \".pkl\"\n",
    "\n",
    "\n",
    "with open(datasetPath, 'wb') as file:\n",
    "    pickle.dump(ticker_dict, file)"
   ]
  },
  {
   "cell_type": "code",
   "execution_count": 23,
   "metadata": {},
   "outputs": [
    {
     "name": "stdout",
     "output_type": "stream",
     "text": [
      "5826\n",
      "5826\n",
      "5826\n",
      "5826\n",
      "5826\n"
     ]
    }
   ],
   "source": [
    "for ticker in TICKER_LIST:\n",
    "    print(len(ticker_dict[ticker]))"
   ]
  }
 ],
 "metadata": {
  "kernelspec": {
   "display_name": "finrl-crypto-v3",
   "language": "python",
   "name": "python3"
  },
  "language_info": {
   "codemirror_mode": {
    "name": "ipython",
    "version": 3
   },
   "file_extension": ".py",
   "mimetype": "text/x-python",
   "name": "python",
   "nbconvert_exporter": "python",
   "pygments_lexer": "ipython3",
   "version": "3.9.19"
  }
 },
 "nbformat": 4,
 "nbformat_minor": 2
}
